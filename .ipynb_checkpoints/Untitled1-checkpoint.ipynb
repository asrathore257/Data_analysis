{
 "cells": [
  {
   "cell_type": "code",
   "execution_count": null,
   "id": "40d65331-07c4-46d3-bb50-b0941486cfcf",
   "metadata": {},
   "outputs": [],
   "source": [
    "import pandas as pd\n",
    "import yfinance as yf\n",
    "from datetime import datetime\n",
    "start_date = datetime.now() - pd.DateOffset(months=3)\n",
    "end_date = datetime.now()\n",
    "tickers = ['AAPL', 'MSFT', 'NFLX', 'GOOG']\n",
    "\n",
    "df_list = []\n",
    "\n",
    "for ticker in tickers:\n",
    "    data = yf.download(ticker, start=start_date, end=end_date)\n",
    "    df_list.append(data)\n",
    "\n",
    "df = pd.concat(df_list, keys=tickers, names=['Ticker', 'Date'])\n",
    "print(df.head())"
   ]
  },
  {
   "cell_type": "code",
   "execution_count": null,
   "id": "750997e1-cc96-4c65-960f-789bfe18274f",
   "metadata": {},
   "outputs": [],
   "source": [
    "df = df.reset_index()\n",
    "print(df.head())"
   ]
  },
  {
   "cell_type": "code",
   "execution_count": null,
   "id": "f3c7d58e-5cdf-47ee-b4cf-31a371dc9641",
   "metadata": {},
   "outputs": [],
   "source": [
    "import plotly.express as px\n",
    "fig = px.line(df, x='Date', \n",
    "              y='Close', \n",
    "              color='Ticker', \n",
    "              title=\"Stock Market Performance for the Last 3 Months\")\n",
    "fig.show()"
   ]
  },
  {
   "cell_type": "code",
   "execution_count": null,
   "id": "4ff1b3b0-ed1b-4e63-b484-16639d49d73a",
   "metadata": {},
   "outputs": [],
   "source": []
  }
 ],
 "metadata": {
  "kernelspec": {
   "display_name": "Python 3 (ipykernel)",
   "language": "python",
   "name": "python3"
  },
  "language_info": {
   "codemirror_mode": {
    "name": "ipython",
    "version": 3
   },
   "file_extension": ".py",
   "mimetype": "text/x-python",
   "name": "python",
   "nbconvert_exporter": "python",
   "pygments_lexer": "ipython3",
   "version": "3.11.5"
  }
 },
 "nbformat": 4,
 "nbformat_minor": 5
}
